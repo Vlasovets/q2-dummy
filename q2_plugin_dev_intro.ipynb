{
  "nbformat": 4,
  "nbformat_minor": 0,
  "metadata": {
    "colab": {
      "name": "q2_plugin_dev_intro.ipynb",
      "provenance": [],
      "collapsed_sections": [],
      "include_colab_link": true
    },
    "kernelspec": {
      "display_name": "Python 3",
      "name": "python3"
    }
  },
  "cells": [
    {
      "cell_type": "markdown",
      "metadata": {
        "id": "view-in-github",
        "colab_type": "text"
      },
      "source": [
        "<a href=\"https://colab.research.google.com/github/Vlasovets/q2-dummy/blob/main/q2_plugin_dev_intro.ipynb\" target=\"_parent\"><img src=\"https://colab.research.google.com/assets/colab-badge.svg\" alt=\"Open In Colab\"/></a>"
      ]
    },
    {
      "cell_type": "code",
      "metadata": {
        "id": "8BmIZAht0-3P",
        "colab": {
          "base_uri": "https://localhost:8080/",
          "height": 206
        },
        "collapsed": true,
        "outputId": "ff80ac44-016d-476d-b6a6-1f6b3d733a92"
      },
      "source": [
        "from IPython.display import Image\n",
        "from IPython.core.display import HTML\n",
        "Image(url= \"https://images.squarespace-cdn.com/content/v1/56a45b0e89a60a5d20e5a6df/1453767440668-E89KZ0CQR6JR7I0CODNA/ke17ZwdGBToddI8pDm48kCMOX1BBM_VAKmGIdqx2dGxZw-zPPgdn4jUwVcJE1ZvWQUxwkmyExglNqGp0IvTJZUJFbgE-7XRK3dMEBRBhUpzEEbQYrhrWByBeOT18mqINXLDezI4em29DfxrEbm4K4makG_UcD0lvNuVdXFGkcdo/image-asset.png\")"
      ],
      "execution_count": 50,
      "outputs": [
        {
          "output_type": "execute_result",
          "data": {
            "text/plain": [
              "<IPython.core.display.Image object>"
            ],
            "text/html": [
              "<img src=\"https://images.squarespace-cdn.com/content/v1/56a45b0e89a60a5d20e5a6df/1453767440668-E89KZ0CQR6JR7I0CODNA/ke17ZwdGBToddI8pDm48kCMOX1BBM_VAKmGIdqx2dGxZw-zPPgdn4jUwVcJE1ZvWQUxwkmyExglNqGp0IvTJZUJFbgE-7XRK3dMEBRBhUpzEEbQYrhrWByBeOT18mqINXLDezI4em29DfxrEbm4K4makG_UcD0lvNuVdXFGkcdo/image-asset.png\"/>"
            ]
          },
          "metadata": {},
          "execution_count": 50
        }
      ]
    },
    {
      "cell_type": "markdown",
      "source": [
        "## 🔨 qiime2 Installation"
      ],
      "metadata": {
        "id": "LofFPXF8djcL"
      }
    },
    {
      "cell_type": "code",
      "source": [
        "%mkdir q2_biods"
      ],
      "metadata": {
        "id": "bB665zKBZwgH"
      },
      "execution_count": null,
      "outputs": []
    },
    {
      "cell_type": "code",
      "source": [
        "%cd q2_biods"
      ],
      "metadata": {
        "id": "LPxNhOI-aWzv"
      },
      "execution_count": null,
      "outputs": []
    },
    {
      "cell_type": "code",
      "source": [
        "%run setup_q2.py"
      ],
      "metadata": {
        "id": "d-PfXavFaalB"
      },
      "execution_count": null,
      "outputs": []
    },
    {
      "cell_type": "markdown",
      "metadata": {
        "id": "lwulPqQzwz2p"
      },
      "source": [
        "## ⚙️ Building plugin repository"
      ]
    },
    {
      "cell_type": "code",
      "source": [
        "from pathlib import Path\n",
        "import os\n",
        "\n",
        "Path(os.path.join(os.getcwd(), \"setup.py\")).touch()"
      ],
      "metadata": {
        "id": "AbbJI2wCdyib"
      },
      "execution_count": null,
      "outputs": []
    },
    {
      "cell_type": "code",
      "source": [
        "%mkdir q2_dummy"
      ],
      "metadata": {
        "id": "XM_OvWU_eBxa"
      },
      "execution_count": null,
      "outputs": []
    },
    {
      "cell_type": "code",
      "source": [
        "%cd q2_dummy"
      ],
      "metadata": {
        "id": "pv81BHxdeoOl"
      },
      "execution_count": null,
      "outputs": []
    },
    {
      "cell_type": "code",
      "source": [
        "Path(os.path.join(os.getcwd(), \"__init__.py\")).touch()\n",
        "Path(os.path.join(os.getcwd(), \"_func.py\")).touch()\n",
        "Path(os.path.join(os.getcwd(), \"_dict.py\")).touch()\n",
        "Path(os.path.join(os.getcwd(), \"_format.py\")).touch()\n",
        "Path(os.path.join(os.getcwd(), \"_transformer.py\")).touch()\n",
        "Path(os.path.join(os.getcwd(), \"_type.py\")).touch()\n",
        "\n",
        "\n",
        "Path(os.path.join(os.getcwd(), \"utils.py\")).touch()\n",
        "Path(os.path.join(os.getcwd(), \"plugin_setup.py\")).touch()"
      ],
      "metadata": {
        "id": "ILexJ8Xde6OV"
      },
      "execution_count": null,
      "outputs": []
    },
    {
      "cell_type": "code",
      "source": [
        "%cd .."
      ],
      "metadata": {
        "id": "83IvtwvCkFLm"
      },
      "execution_count": null,
      "outputs": []
    },
    {
      "cell_type": "code",
      "source": [
        "%mkdir example"
      ],
      "metadata": {
        "id": "LPOPzoXmkRRF"
      },
      "execution_count": null,
      "outputs": []
    },
    {
      "cell_type": "code",
      "source": [
        "%cd example"
      ],
      "metadata": {
        "id": "eMTP5tr2kT0N"
      },
      "execution_count": null,
      "outputs": []
    },
    {
      "cell_type": "code",
      "source": [
        "Path(os.path.join(os.getcwd(), \"88soil.py\")).touch()"
      ],
      "metadata": {
        "id": "vmL5aq0AkzmC"
      },
      "execution_count": null,
      "outputs": []
    },
    {
      "cell_type": "code",
      "source": [
        "%cd .."
      ],
      "metadata": {
        "id": "lsKbz87zlVaj"
      },
      "execution_count": null,
      "outputs": []
    },
    {
      "cell_type": "markdown",
      "source": [
        "Upload 88soil data from [here](https://github.com/Vlasovets/q2-gglasso/tree/master/data)"
      ],
      "metadata": {
        "id": "lTtggglOo2X-"
      }
    },
    {
      "cell_type": "markdown",
      "source": [
        "## 🤖 Install plugin"
      ],
      "metadata": {
        "id": "0zgByCSvoc3M"
      }
    },
    {
      "cell_type": "code",
      "source": [
        "!python setup.py install"
      ],
      "metadata": {
        "id": "GWgHISa7lVjn"
      },
      "execution_count": null,
      "outputs": []
    },
    {
      "cell_type": "code",
      "source": [
        "!qiime dev refresh-cache"
      ],
      "metadata": {
        "id": "VDDi27NXlYIm"
      },
      "execution_count": null,
      "outputs": []
    },
    {
      "cell_type": "markdown",
      "source": [
        "### Import data"
      ],
      "metadata": {
        "id": "6pF5Q6F2mLa1"
      }
    },
    {
      "cell_type": "code",
      "source": [
        "!qiime tools import \\\n",
        "    --input-path example/238_otu_table.biom \\\n",
        "    --output-path example/88soils.biom.qza \\\n",
        "    --type FeatureTable[Frequency]"
      ],
      "metadata": {
        "id": "xdtUVHUGlY6H"
      },
      "execution_count": null,
      "outputs": []
    },
    {
      "cell_type": "markdown",
      "source": [
        "### Select top-100 OTUs"
      ],
      "metadata": {
        "id": "vfAjP0V4mw7H"
      }
    },
    {
      "cell_type": "code",
      "source": [
        "!qiime feature-table filter-features \\\n",
        "    --i-table example/88soils.biom.qza \\\n",
        "    --o-filtered-table example/88soils_filt100.biom.qza \\\n",
        "    --p-min-frequency 100"
      ],
      "metadata": {
        "id": "M5ZL9_Rolcrf"
      },
      "execution_count": null,
      "outputs": []
    },
    {
      "cell_type": "markdown",
      "source": [
        "### Add pseudo counts"
      ],
      "metadata": {
        "id": "y421CySOm3w-"
      }
    },
    {
      "cell_type": "code",
      "source": [
        "!qiime composition add-pseudocount \\\n",
        "                    --i-table example/88soils_filt100.biom.qza \\\n",
        "                    --p-pseudocount 1 \\\n",
        "                    --o-composition-table example/88soils_composition.biom.qza"
      ],
      "metadata": {
        "id": "AoioU1IhlfSE"
      },
      "execution_count": null,
      "outputs": []
    },
    {
      "cell_type": "markdown",
      "source": [
        "### Transform features"
      ],
      "metadata": {
        "id": "AnJAz1lfnbnN"
      }
    },
    {
      "cell_type": "code",
      "source": [
        "!qiime dummy transform-features \\\n",
        "     --p-transformation clr \\\n",
        "     --i-table example/88soils_composition.biom.qza \\\n",
        "     --o-transformed-table example/88soils_clr.biom.qza"
      ],
      "metadata": {
        "id": "pzpVZWd6liWF"
      },
      "execution_count": null,
      "outputs": []
    },
    {
      "cell_type": "markdown",
      "source": [
        "### Results"
      ],
      "metadata": {
        "id": "u3NI1klFnwys"
      }
    },
    {
      "cell_type": "code",
      "source": [
        "!qiime tools export \\\n",
        "  --input-path example/88soils_clr.biom.qza \\\n",
        "  --output-path example/88soils_clr"
      ],
      "metadata": {
        "id": "7Z9ApQHGnDU3"
      },
      "execution_count": null,
      "outputs": []
    },
    {
      "cell_type": "code",
      "source": [
        "!biom convert -i example/88soils_clr/feature-table.biom -o example/88soils_clr/feature-table.tsv --to-tsv"
      ],
      "metadata": {
        "id": "25CfRsrOnaN3"
      },
      "execution_count": null,
      "outputs": []
    }
  ]
}